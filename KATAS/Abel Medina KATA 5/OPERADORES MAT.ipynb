{
 "cells": [
  {
   "cell_type": "markdown",
   "metadata": {},
   "source": [
    "# EJERCICIO 1"
   ]
  },
  {
   "cell_type": "markdown",
   "metadata": {},
   "source": [
    "### Crear variables para almacenar las dos distancias"
   ]
  },
  {
   "cell_type": "code",
   "execution_count": 1,
   "metadata": {},
   "outputs": [],
   "source": [
    "Tierra = 149597870\n",
    "Jupiter = 778547200 "
   ]
  },
  {
   "cell_type": "markdown",
   "metadata": {},
   "source": [
    "### Calcular la distancia entre planetas"
   ]
  },
  {
   "cell_type": "code",
   "execution_count": 2,
   "metadata": {},
   "outputs": [
    {
     "name": "stdout",
     "output_type": "stream",
     "text": [
      "la distancia entre la tierra es de : 628949330 km\n",
      " o 390577533.93 millas\n"
     ]
    }
   ],
   "source": [
    "distancia_entre_planetas = abs(Tierra - Jupiter)\n",
    "distancia_en_millas = distancia_entre_planetas*0.621\n",
    "print (\"la distancia entre la tierra es de : \" + str(distancia_entre_planetas) + \" km\" \"\\n\"\" o \" + str(distancia_en_millas) + \" millas\" )\n"
   ]
  },
  {
   "cell_type": "markdown",
   "metadata": {},
   "source": [
    "# EJERCICIO 2"
   ]
  },
  {
   "cell_type": "markdown",
   "metadata": {},
   "source": [
    "### Agregamos datos a seleccionar por el usuario"
   ]
  },
  {
   "cell_type": "code",
   "execution_count": 33,
   "metadata": {},
   "outputs": [
    {
     "name": "stdout",
     "output_type": "stream",
     "text": [
      "a continuacion la lista de distancias en km de los planetas del sistema solar al sol\n"
     ]
    },
    {
     "data": {
      "text/plain": [
       "['mercurio = 57900000',\n",
       " 'venus = 108200000',\n",
       " 'tierra = 149600000',\n",
       " 'marte = 227900000',\n",
       " 'jupiter = 778600000',\n",
       " 'saturno = 1433500000',\n",
       " 'urano = 2872500000',\n",
       " 'neptuno = 4495100000']"
      ]
     },
     "execution_count": 33,
     "metadata": {},
     "output_type": "execute_result"
    }
   ],
   "source": [
    "print (\"a continuacion la lista de distancias en km de los planetas del sistema solar al sol\")\n",
    "distancias_planetas = \"mercurio = 57900000, venus = 108200000, tierra = 149600000, marte = 227900000, jupiter = 778600000, saturno = 1433500000, urano = 2872500000, neptuno = 4495100000\"\n",
    "distancias_planetas.split(\", \")"
   ]
  },
  {
   "cell_type": "markdown",
   "metadata": {},
   "source": [
    "### Formulamos el escenario para el usuario"
   ]
  },
  {
   "cell_type": "code",
   "execution_count": 37,
   "metadata": {},
   "outputs": [
    {
     "name": "stdout",
     "output_type": "stream",
     "text": [
      "A continuacion seleccione los planetas cuya distancia entre si desea conocer\n"
     ]
    }
   ],
   "source": [
    "print(\"A continuacion seleccione los planetas cuya distancia entre si desea conocer\")\n",
    "primer_planeta = int(input(\"ingrese la distacia al sol del primer planeta: \"))\n",
    "segundo_planeta = int(input(\"ingrese la distacia al sol del segundo planeta: \"))\n"
   ]
  },
  {
   "cell_type": "markdown",
   "metadata": {},
   "source": [
    "### Realizamos las operaciones nescesarias segun la seleccion del usuario"
   ]
  },
  {
   "cell_type": "code",
   "execution_count": 39,
   "metadata": {},
   "outputs": [
    {
     "name": "stdout",
     "output_type": "stream",
     "text": [
      "5\n",
      "3.105\n"
     ]
    }
   ],
   "source": [
    "distancia_entre_planetas = (abs(primer_planeta - segundo_planeta))\n",
    "distancia_en_millas = distancia_entre_planetas*0.621\n",
    "print(str(distancia_entre_planetas))\n",
    "print(str(distancia_en_millas))\n"
   ]
  }
 ],
 "metadata": {
  "interpreter": {
   "hash": "d40a494e7dd79ee70518f9191b62fbadd86b0545c98b8ad24418e994d4520685"
  },
  "kernelspec": {
   "display_name": "Python 3.10.2 64-bit (windows store)",
   "language": "python",
   "name": "python3"
  },
  "language_info": {
   "codemirror_mode": {
    "name": "ipython",
    "version": 3
   },
   "file_extension": ".py",
   "mimetype": "text/x-python",
   "name": "python",
   "nbconvert_exporter": "python",
   "pygments_lexer": "ipython3",
   "version": "3.10.2"
  },
  "orig_nbformat": 4
 },
 "nbformat": 4,
 "nbformat_minor": 2
}
