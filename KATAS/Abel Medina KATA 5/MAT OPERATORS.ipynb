{
 "cells": [
  {
   "cell_type": "code",
   "execution_count": 2,
   "metadata": {},
   "outputs": [],
   "source": [
    "Tierra = 149597870\n",
    "Jupiter = 778547200 "
   ]
  },
  {
   "cell_type": "code",
   "execution_count": 3,
   "metadata": {},
   "outputs": [
    {
     "name": "stdout",
     "output_type": "stream",
     "text": [
      "la distancia entre la tierra es de : 628949330 km\n",
      " o 390577533.93 millas\n"
     ]
    }
   ],
   "source": [
    "distancia_entre_planetas = abs(Tierra - Jupiter)\n",
    "distancia_en_millas = distancia_entre_planetas*0.621\n",
    "print (\"la distancia entre la tierra es de : \" + str(distancia_entre_planetas) + \" km\" \"\\n\"\" o \" + str(distancia_en_millas) + \" millas\" )"
   ]
  }
 ],
 "metadata": {
  "interpreter": {
   "hash": "d40a494e7dd79ee70518f9191b62fbadd86b0545c98b8ad24418e994d4520685"
  },
  "kernelspec": {
   "display_name": "Python 3.10.2 64-bit (windows store)",
   "language": "python",
   "name": "python3"
  },
  "language_info": {
   "codemirror_mode": {
    "name": "ipython",
    "version": 3
   },
   "file_extension": ".py",
   "mimetype": "text/x-python",
   "name": "python",
   "nbconvert_exporter": "python",
   "pygments_lexer": "ipython3",
   "version": "3.10.2"
  },
  "orig_nbformat": 4
 },
 "nbformat": 4,
 "nbformat_minor": 2
}
