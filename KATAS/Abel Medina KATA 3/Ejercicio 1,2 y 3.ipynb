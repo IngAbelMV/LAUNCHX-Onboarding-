{
 "cells": [
  {
   "cell_type": "markdown",
   "metadata": {},
   "source": [
    "# Ejercicio 1"
   ]
  },
  {
   "cell_type": "markdown",
   "metadata": {},
   "source": [
    "## Caso 1"
   ]
  },
  {
   "cell_type": "markdown",
   "metadata": {},
   "source": [
    "### Añadir el código necesario para crear una variable que guarde la velocidad del asteroide."
   ]
  },
  {
   "cell_type": "code",
   "execution_count": 2,
   "metadata": {},
   "outputs": [],
   "source": [
    "v_asteroide = 49\n"
   ]
  },
  {
   "cell_type": "markdown",
   "metadata": {},
   "source": [
    "### Escribe una expresión de prueba para calcular si necesita una advertencia."
   ]
  },
  {
   "cell_type": "code",
   "execution_count": 13,
   "metadata": {},
   "outputs": [
    {
     "name": "stdout",
     "output_type": "stream",
     "text": [
      "ALERTA¡: Peligro de colision con asteroide\n"
     ]
    }
   ],
   "source": [
    "if v_asteroide > 25:\n",
    "    print (\"ALERTA¡: Peligro de colision con asteroide\")\n",
    "else:\n",
    "    print (\"No hay peligro inminente\")"
   ]
  },
  {
   "cell_type": "markdown",
   "metadata": {},
   "source": [
    "## Caso 2"
   ]
  },
  {
   "cell_type": "markdown",
   "metadata": {},
   "source": [
    "### Agrega el código para crear una variable para un asteroide que viaja a 19 km/s"
   ]
  },
  {
   "cell_type": "code",
   "execution_count": 26,
   "metadata": {},
   "outputs": [],
   "source": [
    "v_asteroide2 = 19"
   ]
  },
  {
   "cell_type": "markdown",
   "metadata": {},
   "source": [
    "### Escribe varias expresiones de prueba para determinar si puedes ver el rayo de luz desde la tierra"
   ]
  },
  {
   "cell_type": "code",
   "execution_count": 27,
   "metadata": {},
   "outputs": [
    {
     "name": "stdout",
     "output_type": "stream",
     "text": [
      "se puede vislumbrar un rayo de luz\n"
     ]
    }
   ],
   "source": [
    "if v_asteroide2 >= 20:\n",
    "    print (\"se puede vislumbrar un rayo de luz\")\n",
    "else:\n",
    "    print (\"No se observa nada\")"
   ]
  },
  {
   "cell_type": "markdown",
   "metadata": {},
   "source": [
    "## Caso 3"
   ]
  },
  {
   "cell_type": "markdown",
   "metadata": {},
   "source": [
    "### Agrega el código para crear nuevas variables para la velocidad y el tamaño del asteroide"
   ]
  },
  {
   "cell_type": "code",
   "execution_count": 30,
   "metadata": {},
   "outputs": [],
   "source": [
    "v_asteroide3 = 25\n",
    "tamano_asteroide = 40"
   ]
  },
  {
   "cell_type": "markdown",
   "metadata": {},
   "source": [
    "### Escribe varias expresiones de prueba o combinaciones de expresiones de prueba para determinar qué mensaje se debe enviar a Tierra.\n"
   ]
  },
  {
   "cell_type": "code",
   "execution_count": 31,
   "metadata": {},
   "outputs": [
    {
     "name": "stdout",
     "output_type": "stream",
     "text": [
      "se puede vislumbrar un rayo de luz\n"
     ]
    }
   ],
   "source": [
    "if v_asteroide3 > 25 and tamano_asteroide > 25:\n",
    "    print(\"ALERTA¡: Peligro de colision con asteroide\")\n",
    "elif v_asteroide3 >= 20:\n",
    "    print('se puede vislumbrar un rayo de luz')\n",
    "elif tamano_asteroide < 25:\n",
    "    print('No hay peligro inminente')\n",
    "else:\n",
    "    print('No hay peligro inminente')"
   ]
  }
 ],
 "metadata": {
  "interpreter": {
   "hash": "d40a494e7dd79ee70518f9191b62fbadd86b0545c98b8ad24418e994d4520685"
  },
  "kernelspec": {
   "display_name": "Python 3.10.2 64-bit (windows store)",
   "language": "python",
   "name": "python3"
  },
  "language_info": {
   "codemirror_mode": {
    "name": "ipython",
    "version": 3
   },
   "file_extension": ".py",
   "mimetype": "text/x-python",
   "name": "python",
   "nbconvert_exporter": "python",
   "pygments_lexer": "ipython3",
   "version": "3.10.2"
  },
  "orig_nbformat": 4
 },
 "nbformat": 4,
 "nbformat_minor": 2
}
